{
 "cells": [
  {
   "cell_type": "code",
   "execution_count": 1,
   "id": "88560031",
   "metadata": {},
   "outputs": [],
   "source": [
    "import math\n",
    "import os\n",
    "import sys\n",
    "from typing import Iterable\n",
    "import numpy as np\n",
    "import copy\n",
    "import itertools\n",
    "import argparse\n",
    "\n",
    "import torch\n",
    "\n",
    "import util.misc as utils\n",
    "from datasets.coco_eval import CocoEvaluator\n",
    "from datasets.panoptic_eval import PanopticEvaluator\n",
    "from datasets.hico_eval import HICOEvaluator\n",
    "from datasets.vcoco_eval import VCOCOEvaluator"
   ]
  },
  {
   "cell_type": "code",
   "execution_count": 2,
   "id": "b462d5d5",
   "metadata": {},
   "outputs": [
    {
     "data": {
      "text/plain": [
       "Namespace(dataset_file='vcoco', hoi_path='/hub_data3/intern/seokwon/qpic/data/v-coco', num_queries=100)"
      ]
     },
     "execution_count": 2,
     "metadata": {},
     "output_type": "execute_result"
    }
   ],
   "source": [
    "parser = argparse.ArgumentParser('Set transformer detector', add_help=False)\n",
    "parser.add_argument('--dataset_file', default='coco')\n",
    "parser.add_argument('--hoi_path', type=str)\n",
    "parser.add_argument('--num_queries', default=100, type=int,\n",
    "                        help=\"Number of query slots\")\n",
    "args = parser.parse_args(args=[])\n",
    "\n",
    "args.dataset_file = 'vcoco'\n",
    "args.hoi_path = '/hub_data3/intern/seokwon/qpic/data/v-coco'\n",
    "args.num_queries = 100\n",
    "args"
   ]
  },
  {
   "cell_type": "code",
   "execution_count": 3,
   "id": "1f805a2d",
   "metadata": {},
   "outputs": [],
   "source": [
    "from datasets import build_dataset\n",
    "from torch.utils.data import DataLoader\n",
    "\n",
    "dataset_train = build_dataset(image_set='train', args=args)\n",
    "train_anno = dataset_train.annotations"
   ]
  },
  {
   "cell_type": "code",
   "execution_count": 4,
   "id": "4d35feb4",
   "metadata": {
    "scrolled": true
   },
   "outputs": [],
   "source": [
    "object_label = [\n",
    "    'no_object', 'person', 'bicycle', 'car', 'motorcycle', 'airplane', 'bus', 'train', 'truck', 'boat', \\\n",
    "    'traffic light', 'fire hydrant', 'street sign', 'stop sign', 'parking meter', 'bench', 'bird', \\\n",
    "    'cat', 'dog', 'horse', 'sheep', 'cow', 'elephant', 'bear', 'zebra', 'giraffe', 'hat', 'backpack', \\\n",
    "    'umbrella', 'shoe', 'eye glasses', 'handbag', 'tie', 'suitcase', 'frisbee', 'skis', 'snowboard', \\\n",
    "    'sports ball', 'kite', 'baseball bat', 'baseball glove', 'skateboard', 'surfboard', 'tennis racket', \\\n",
    "    'bottle', 'plate', 'wine glass', 'cup', 'fork', 'knife', 'spoon', 'bowl', 'banana', 'apple', \\\n",
    "    'sandwich', 'orange', 'broccoli', 'carrot', 'hot dog', 'pizza', 'donut', 'cake', 'chair', 'couch', \\\n",
    "    'potted plant', 'bed', 'mirror', 'dining table', 'window', 'desk', 'toilet', 'door', 'tv', 'laptop', \\\n",
    "    'mouse', 'remote', 'keyboard', 'cell phone', 'microwave', 'oven', 'toaster', 'sink', 'refrigerator', \\\n",
    "    'blender', 'book', 'clock', 'vase', 'scissors', 'teddy bear', 'hair drier', 'toothbrush', 'hair brush']\n",
    "\n",
    "verb_label = [\n",
    "    'hold_obj', 'stand', 'sit_instr', 'ride_instr', 'walk', 'look_obj', 'hit_instr', 'hit_obj', \\\n",
    "    'eat_obj', 'eat_instr', 'jump_instr', 'lay_instr', 'talk_on_phone_instr', 'carry_obj', \\\n",
    "    'throw_obj', 'catch_obj', 'cut_instr', 'cut_obj', 'run', 'work_on_computer_instr', \\\n",
    "    'ski_instr', 'surf_instr', 'skateboard_instr', 'smile', 'drink_instr', 'kick_obj', \\\n",
    "    'point_instr', 'read_obj', 'snowboard_instr']"
   ]
  },
  {
   "cell_type": "code",
   "execution_count": 5,
   "id": "56cd9a79",
   "metadata": {},
   "outputs": [],
   "source": [
    "from itertools import permutations\n",
    "\n",
    "hois_dict = dict()\n",
    "\n",
    "for sample in train_anno:\n",
    "    objs = sample['annotations']\n",
    "    hois = sample['hoi_annotation']\n",
    "    \n",
    "    hoi_dict = dict()\n",
    "    for hoi in hois:\n",
    "        subject_class = hoi['subject_id']\n",
    "        object_class  = hoi['object_id']\n",
    "        hoi_class     = hoi['category_id']\n",
    "        \n",
    "        if subject_class not in hoi_dict:\n",
    "            hoi_dict[subject_class] = dict()\n",
    "        if object_class not in hoi_dict[subject_class]:\n",
    "            hoi_dict[subject_class][object_class] = set()\n",
    "        hoi_dict[subject_class][object_class].add(hoi_class)\n",
    "        \n",
    "    for sbj in hoi_dict.keys():\n",
    "        for obj in hoi_dict[sbj].keys():\n",
    "            d = hoi_dict[sbj][obj]\n",
    "            \n",
    "            # real label for subject and object\n",
    "            subject_id = objs[sbj]['category_id']\n",
    "            object_id = objs[obj]['category_id']\n",
    "            \n",
    "            for verb_comb in list(itertools.product(list(d), repeat=2)):\n",
    "                if subject_id not in hois_dict:\n",
    "                    hois_dict[subject_id] = dict()\n",
    "                if object_id not in hois_dict[subject_id]:\n",
    "                    hois_dict[subject_id][object_id] = dict()\n",
    "                if verb_comb[0] not in hois_dict[subject_id][object_id]:\n",
    "                    hois_dict[subject_id][object_id][verb_comb[0]] = dict()\n",
    "                if verb_comb[1] not in hois_dict[subject_id][object_id][verb_comb[0]]:\n",
    "                    hois_dict[subject_id][object_id][verb_comb[0]][verb_comb[1]] = 1\n",
    "                else:\n",
    "                    hois_dict[subject_id][object_id][verb_comb[0]][verb_comb[1]] += 1\n",
    "                "
   ]
  },
  {
   "cell_type": "code",
   "execution_count": 6,
   "id": "c6e34e51",
   "metadata": {},
   "outputs": [
    {
     "data": {
      "text/plain": [
       "('laptop', 'work_on_computer_instr')"
      ]
     },
     "execution_count": 6,
     "metadata": {},
     "output_type": "execute_result"
    }
   ],
   "source": [
    "a = [1, 2, 3, 4, 5, 6, 7, 8, 9, 10, 11, 13,\n",
    "   14, 15, 16, 17, 18, 19, 20, 21, 22, 23,\n",
    "   24, 25, 27, 28, 31, 32, 33, 34, 35, 36,\n",
    "   37, 38, 39, 40, 41, 42, 43, 44, 46, 47,\n",
    "   48, 49, 50, 51, 52, 53, 54, 55, 56, 57,\n",
    "   58, 59, 60, 61, 62, 63, 64, 65, 67, 70,\n",
    "   72, 73, 74, 75, 76, 77, 78, 79, 80, 81,\n",
    "   82, 84, 85, 86, 87, 88, 89, 90]\n",
    "\n",
    "object_label[a[63]], verb_label[19]"
   ]
  },
  {
   "cell_type": "code",
   "execution_count": 7,
   "id": "79141fdb",
   "metadata": {},
   "outputs": [],
   "source": [
    "import numpy as np\n",
    "\n",
    "def co_appear(d, v):\n",
    "    freq = d[v]\n",
    "    d = dict({key : value / freq for key, value in d.items() if key != v})\n",
    "    return d\n",
    "\n",
    "for sbj in hois_dict.keys():\n",
    "    for obj in hois_dict[sbj].keys():\n",
    "        for verb in hois_dict[sbj][obj].keys():\n",
    "            d = hois_dict[sbj][obj][verb]\n",
    "            hois_dict[sbj][obj][verb] = co_appear(d, verb)"
   ]
  },
  {
   "cell_type": "code",
   "execution_count": 8,
   "id": "c3b0614b",
   "metadata": {},
   "outputs": [
    {
     "name": "stdout",
     "output_type": "stream",
     "text": [
      "Subject : person Object : bicycle Verb : ride_instr\n",
      "Verb : hold_obj Score : 0.522\n",
      "Verb : sit_instr Score : 0.776\n",
      "Verb : look_obj Score : 0.060\n",
      "\n",
      "Subject : person Object : motorcycle Verb : hold_obj\n",
      "Verb : sit_instr Score : 0.926\n",
      "Verb : ride_instr Score : 0.971\n",
      "Verb : look_obj Score : 0.029\n",
      "\n"
     ]
    }
   ],
   "source": [
    "def come_out_together(s, o, v):\n",
    "    dist = hois_dict[s][o][v]\n",
    "    print(\"Subject : {} Object : {} Verb : {}\".format(object_label[s], object_label[o], verb_label[v]))\n",
    "    for k, v in dist.items():\n",
    "        print(\"Verb : {} Score : {:.3f}\".format(verb_label[k], v))\n",
    "    print()\n",
    "    \n",
    "come_out_together(1, 2, 3)\n",
    "come_out_together(1, 4, 0)"
   ]
  },
  {
   "cell_type": "code",
   "execution_count": 9,
   "id": "467bcd82",
   "metadata": {},
   "outputs": [
    {
     "data": {
      "text/plain": [
       "[1]"
      ]
     },
     "execution_count": 9,
     "metadata": {},
     "output_type": "execute_result"
    }
   ],
   "source": [
    "import copy\n",
    "\n",
    "def come_out_threshold(hois, threshold=0.7):\n",
    "    d = copy.deepcopy(hois)\n",
    "    for sbj in d.keys():\n",
    "        for obj in d[sbj].keys():\n",
    "            for verb_a in d[sbj][obj].keys():\n",
    "                over_threshold = list()\n",
    "                for verb_b in d[sbj][obj][verb_a].keys():\n",
    "                    if d[sbj][obj][verb_a][verb_b] >= threshold:\n",
    "                        over_threshold.append(verb_b)\n",
    "                d[sbj][obj][verb_a] = over_threshold\n",
    "    return d\n",
    "filtered = come_out_threshold(hois_dict)\n",
    "filtered[1][3][4]"
   ]
  },
  {
   "cell_type": "code",
   "execution_count": 10,
   "id": "78ad3be8",
   "metadata": {},
   "outputs": [],
   "source": [
    "import pickle\n",
    " \n",
    "save_data = filtered\n",
    "with open(\"/home/intern/seokwon/qpic/coappear.pickle\", \"wb\") as file:\n",
    "    pickle.dump(save_data, file)"
   ]
  },
  {
   "cell_type": "code",
   "execution_count": 11,
   "id": "eea4dd26",
   "metadata": {},
   "outputs": [
    {
     "name": "stdout",
     "output_type": "stream",
     "text": [
      "COCO_train2014_000000387124.jpg\n",
      "COCO_train2014_000000306800.jpg\n",
      "COCO_train2014_000000029525.jpg\n",
      "COCO_train2014_000000218546.jpg\n",
      "COCO_train2014_000000099046.jpg\n",
      "COCO_train2014_000000231524.jpg\n"
     ]
    }
   ],
   "source": [
    "for sample in train_anno:\n",
    "    \n",
    "    hoi_dict = dict()\n",
    "    \n",
    "    objs = sample['annotations']\n",
    "    hois = sample['hoi_annotation']\n",
    "    \n",
    "    for hoi in hois:\n",
    "        subject_class = objs[hoi['subject_id']]['category_id']\n",
    "        object_class = objs[hoi['object_id']]['category_id'] if hoi['object_id'] != -1 else 0\n",
    "        hoi_class = hoi['category_id']\n",
    "        \n",
    "        if subject_class not in hoi_dict:\n",
    "            hoi_dict[subject_class] = dict()\n",
    "        if object_class not in hoi_dict[subject_class]:\n",
    "            hoi_dict[subject_class][object_class] = dict()\n",
    "        if hoi_class not in hoi_dict[subject_class][object_class]:\n",
    "            hoi_dict[subject_class][object_class][hoi_class] = 1\n",
    "        else:\n",
    "            hoi_dict[subject_class][object_class][hoi_class] += 1\n",
    "    if 1 in hoi_dict:\n",
    "        if 2 in hoi_dict[1]:\n",
    "            if 2 in hoi_dict[1][2] and 3 in hoi_dict[1][2]:\n",
    "                if hoi_dict[1][2][2] != hoi_dict[1][2][3]:\n",
    "                    print(sample['file_name'])"
   ]
  },
  {
   "cell_type": "code",
   "execution_count": null,
   "id": "2dbb5300",
   "metadata": {},
   "outputs": [],
   "source": []
  }
 ],
 "metadata": {
  "kernelspec": {
   "display_name": "Python 3 (ipykernel)",
   "language": "python",
   "name": "python3"
  },
  "language_info": {
   "codemirror_mode": {
    "name": "ipython",
    "version": 3
   },
   "file_extension": ".py",
   "mimetype": "text/x-python",
   "name": "python",
   "nbconvert_exporter": "python",
   "pygments_lexer": "ipython3",
   "version": "3.7.15"
  },
  "vscode": {
   "interpreter": {
    "hash": "31f2aee4e71d21fbe5cf8b01ff0e069b9275f58929596ceb00d14d90e3e16cd6"
   }
  }
 },
 "nbformat": 4,
 "nbformat_minor": 5
}
